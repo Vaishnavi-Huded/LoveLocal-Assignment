{
  "nbformat": 4,
  "nbformat_minor": 0,
  "metadata": {
    "colab": {
      "provenance": []
    },
    "kernelspec": {
      "name": "python3",
      "display_name": "Python 3"
    },
    "language_info": {
      "name": "python"
    }
  },
  "cells": [
    {
      "cell_type": "code",
      "source": [
        "#LOVELOCAL ASSIGNMENT\n",
        "\n",
        "#EASY-1"
      ],
      "metadata": {
        "id": "hWT1R6UuYTcN"
      },
      "execution_count": null,
      "outputs": []
    },
    {
      "cell_type": "code",
      "source": [
        "'''Given a string s consisting of words and spaces, return the length of the last word in the string.\n",
        "A word is a maximal\n",
        "substring consisting of non-space characters only'''"
      ],
      "metadata": {
        "id": "5Pzkt3pmY7ZN"
      },
      "execution_count": null,
      "outputs": []
    },
    {
      "cell_type": "code",
      "execution_count": 5,
      "metadata": {
        "colab": {
          "base_uri": "https://localhost:8080/"
        },
        "id": "yTEf2UEsXlv6",
        "outputId": "2fe9653d-369e-4834-8924-93d8618a584a"
      },
      "outputs": [
        {
          "output_type": "stream",
          "name": "stdout",
          "text": [
            "Hello world\n",
            "5\n"
          ]
        }
      ],
      "source": [
        "def len_lastword(s) :\n",
        "    return len(s.strip().split()[-1])\n",
        "\n",
        "\n",
        "s = input()\n",
        "print(len_lastword(s))"
      ]
    },
    {
      "cell_type": "code",
      "source": [
        "def len_lastword(s) :\n",
        "    return len(s.strip().split()[-1])\n",
        "\n",
        "\n",
        "s = input()\n",
        "print(len_lastword(s))"
      ],
      "metadata": {
        "colab": {
          "base_uri": "https://localhost:8080/"
        },
        "id": "VcIOioTJYE-Y",
        "outputId": "2e8c9ca3-f131-4c3b-df44-ec1f371f5995"
      },
      "execution_count": 6,
      "outputs": [
        {
          "output_type": "stream",
          "name": "stdout",
          "text": [
            "fly me to the moon\n",
            "4\n"
          ]
        }
      ]
    },
    {
      "cell_type": "code",
      "source": [
        "def len_lastword(s) :\n",
        "    return len(s.strip().split()[-1])\n",
        "\n",
        "\n",
        "s = input()\n",
        "print(len_lastword(s))"
      ],
      "metadata": {
        "colab": {
          "base_uri": "https://localhost:8080/"
        },
        "id": "71dPu6FSYLTK",
        "outputId": "c6c91e34-c559-458e-e831-d60508b0fb0e"
      },
      "execution_count": 4,
      "outputs": [
        {
          "output_type": "stream",
          "name": "stdout",
          "text": [
            "luffy is still joyboy\n",
            "6\n"
          ]
        }
      ]
    },
    {
      "cell_type": "code",
      "source": [
        "# The above code explains:\n",
        "# the 'def' function defines a function named 'len_lastword' that takes a single parameter as input, which is (s).\n",
        "# s.strip() Removes the whitespace from the input string s.\n",
        "# split() Splits the string into a list of words using spaces as separators.\n",
        "# [-1] Selects the last element (the last word) from the list.\n",
        "# return len() Returns the length of the last word.\n",
        "\n",
        "# in the next line we take input and store it in s.\n",
        "# we print the function that we firstly defind (len_lastword(s)), to get our result"
      ],
      "metadata": {
        "id": "Rh7YHIirZClY"
      },
      "execution_count": 7,
      "outputs": []
    },
    {
      "cell_type": "code",
      "source": [],
      "metadata": {
        "id": "jb1JsIY4ZCot"
      },
      "execution_count": 7,
      "outputs": []
    },
    {
      "cell_type": "code",
      "source": [
        "#LOVELOCAL ASSIGNMENT\n",
        "\n",
        "#MEDIUM-2"
      ],
      "metadata": {
        "id": "B3yeXoPra-P5"
      },
      "execution_count": null,
      "outputs": []
    },
    {
      "cell_type": "code",
      "source": [
        "def majority_elements(nums):\n",
        "    if not nums:\n",
        "        return []\n",
        "\n",
        "    count1, count2, candidate1, candidate2 = 0, 0, None, None\n",
        "\n",
        "    for num in nums:\n",
        "        if num == candidate1: count1 += 1\n",
        "        elif num == candidate2: count2 += 1\n",
        "        elif count1 == 0: candidate1, count1 = num, 1\n",
        "        elif count2 == 0: candidate2, count2 = num, 1\n",
        "        else: count1, count2 = count1 - 1, count2 - 1\n",
        "\n",
        "    result = [candidate for candidate in (candidate1, candidate2) if nums.count(candidate) > len(nums) // 3]\n",
        "\n",
        "    return result\n",
        "\n",
        "\n",
        "input_str = input()\n",
        "nums = list(map(int, input_str[1:-1].split(',')))\n",
        "\n",
        "print(majority_elements(nums))\n"
      ],
      "metadata": {
        "colab": {
          "base_uri": "https://localhost:8080/"
        },
        "id": "5PeYqiIabF1r",
        "outputId": "1b668852-8fd9-48fb-a1e1-40aad2462b6f"
      },
      "execution_count": 27,
      "outputs": [
        {
          "output_type": "stream",
          "name": "stdout",
          "text": [
            "[3,2,3]\n",
            "[3]\n"
          ]
        }
      ]
    },
    {
      "cell_type": "code",
      "source": [
        "def majority_elements(nums):\n",
        "    if not nums:\n",
        "        return []\n",
        "\n",
        "    count1, count2, candidate1, candidate2 = 0, 0, None, None\n",
        "\n",
        "    for num in nums:\n",
        "        if num == candidate1: count1 += 1\n",
        "        elif num == candidate2: count2 += 1\n",
        "        elif count1 == 0: candidate1, count1 = num, 1\n",
        "        elif count2 == 0: candidate2, count2 = num, 1\n",
        "        else: count1, count2 = count1 - 1, count2 - 1\n",
        "\n",
        "    result = [candidate for candidate in (candidate1, candidate2) if nums.count(candidate) > len(nums) // 3]\n",
        "\n",
        "    return result\n",
        "\n",
        "\n",
        "input_str = input()\n",
        "nums = list(map(int, input_str[1:-1].split(',')))\n",
        "\n",
        "print(majority_elements(nums))"
      ],
      "metadata": {
        "colab": {
          "base_uri": "https://localhost:8080/"
        },
        "id": "cu736XFffvtf",
        "outputId": "6288eed8-02cf-4a36-8125-7a044a5520aa"
      },
      "execution_count": 33,
      "outputs": [
        {
          "output_type": "stream",
          "name": "stdout",
          "text": [
            "[1,2]\n",
            "[1, 2]\n"
          ]
        }
      ]
    },
    {
      "cell_type": "code",
      "source": [
        "def majority_elements(nums):\n",
        "    if not nums:\n",
        "        return []\n",
        "\n",
        "    count1, count2, candidate1, candidate2 = 0, 0, None, None\n",
        "\n",
        "    for num in nums:\n",
        "        if num == candidate1: count1 += 1\n",
        "        elif num == candidate2: count2 += 1\n",
        "        elif count1 == 0: candidate1, count1 = num, 1\n",
        "        elif count2 == 0: candidate2, count2 = num, 1\n",
        "        else: count1, count2 = count1 - 1, count2 - 1\n",
        "\n",
        "    result = [candidate for candidate in (candidate1, candidate2) if nums.count(candidate) > len(nums) // 3]\n",
        "\n",
        "    return result\n",
        "\n",
        "\n",
        "input_str = input()\n",
        "nums = list(map(int, input_str[1:-1].split(',')))\n",
        "\n",
        "print(majority_elements(nums))\n"
      ],
      "metadata": {
        "colab": {
          "base_uri": "https://localhost:8080/"
        },
        "id": "VysFepFnf0on",
        "outputId": "c8916284-f111-4298-c09f-c96e47cef7c7"
      },
      "execution_count": 28,
      "outputs": [
        {
          "output_type": "stream",
          "name": "stdout",
          "text": [
            "[1]\n",
            "[1]\n"
          ]
        }
      ]
    },
    {
      "cell_type": "code",
      "source": [
        "# def defines a function called majority_elements that takes a list of numbers as input.\n",
        "# Check if the input list is empty and Return an empty list if the input list is empty.\n",
        "        return []\n",
        "\n",
        "# Initialize counters and potential majority candidates\n",
        "    count1, count2, candidate1, candidate2 = 0, 0, None, None\n",
        "\n",
        "# Iterate through each number in the input list and Check if the number is a potential candidate\n",
        "# Increment the counter for candidate1, Increment the counter for candidate2\n",
        "# Set candidate1 to the current number and reset its counter to 1\n",
        "# Set candidate2 to the current number and reset its counter to 1\n",
        "# Decrease counters for both candidates\n",
        "\n",
        "\n",
        "# Create a list (result) containing candidates that appear more than one-third of the total elements\n",
        "# Return the list of majority elements\n",
        "\n",
        "\n",
        "# Take user input as a string\n",
        "# input_str = input()\n",
        "\n",
        "# Remove outer square brackets, split the string at commas, convert to integers, and create a list (nums)\n",
        "# nums = list(map(int, input_str[1:-1].split(',')))\n",
        "\n",
        "# Call the majority_elements function with the created list (nums) as input and print the result\n",
        "# print(majority_elements(nums))\n"
      ],
      "metadata": {
        "id": "bD8bG2X8gslU"
      },
      "execution_count": null,
      "outputs": []
    },
    {
      "cell_type": "code",
      "source": [],
      "metadata": {
        "id": "qdOx5oQQiNtE"
      },
      "execution_count": null,
      "outputs": []
    },
    {
      "cell_type": "code",
      "source": [
        "#LOVELOCAL ASSIGNMENT\n",
        "\n",
        "#HARD-2"
      ],
      "metadata": {
        "id": "f-T_1S41iN5O"
      },
      "execution_count": null,
      "outputs": []
    },
    {
      "cell_type": "code",
      "source": [
        "def count_digit_one(n):\n",
        "    count = 0\n",
        "\n",
        "    for i in range(1, n + 1):\n",
        "        count += str(i).count('1')\n",
        "\n",
        "    return count\n",
        "\n",
        "\n",
        "n1 = int(input())\n",
        "print(count_digit_one(n1))\n",
        "\n"
      ],
      "metadata": {
        "colab": {
          "base_uri": "https://localhost:8080/"
        },
        "id": "2bb6Q665icMh",
        "outputId": "b0d7db4c-8254-400b-9b91-00d9693e4fc3"
      },
      "execution_count": 35,
      "outputs": [
        {
          "output_type": "stream",
          "name": "stdout",
          "text": [
            "13\n",
            "6\n"
          ]
        }
      ]
    },
    {
      "cell_type": "code",
      "source": [
        "def count_digit_one(n):\n",
        "    count = 0\n",
        "\n",
        "    for i in range(1, n + 1):\n",
        "        count += str(i).count('1')\n",
        "\n",
        "    return count\n",
        "\n",
        "\n",
        "n1 = int(input())\n",
        "print(count_digit_one(n1))"
      ],
      "metadata": {
        "colab": {
          "base_uri": "https://localhost:8080/"
        },
        "id": "m8vd4nAqi0PA",
        "outputId": "c4f1809c-6828-426f-90f0-aabd87076dde"
      },
      "execution_count": 36,
      "outputs": [
        {
          "output_type": "stream",
          "name": "stdout",
          "text": [
            "0\n",
            "0\n"
          ]
        }
      ]
    },
    {
      "cell_type": "code",
      "source": [
        "# Define a function called count_digit_one that takes an integer n as input\n",
        "# Initialize a variable count to keep track of the total count of digit 1\n",
        "# Iterate through each number from 1 to n (inclusive)\n",
        "# Convert the current number i to a string and count the occurrences of '1'\n",
        "# Return the total count of digit 1 in all numbers from 1 to n\n",
        "\n",
        "\n",
        "# Take user input for the value of n\n",
        "# n1 = int(input())\n",
        "\n",
        "# Call the count_digit_one function with the user input as the value of n and print the result\n",
        "# print(count_digit_one(n1))\n"
      ],
      "metadata": {
        "id": "pNiYbjUNi5Hj"
      },
      "execution_count": null,
      "outputs": []
    }
  ]
}